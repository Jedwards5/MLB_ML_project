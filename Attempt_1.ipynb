{
 "cells": [
  {
   "cell_type": "code",
   "execution_count": null,
   "id": "cbd3e8c6-385e-47dc-97a4-d13ba11f08dc",
   "metadata": {},
   "outputs": [],
   "source": [
    "import pandas as pd\n",
    "import numpy as np\n",
    "\n",
    "# Current way to calculate polynomials for graph overlays - replaces polyfit\n",
    "from numpy.polynomial import Polynomial \n",
    "\n",
    "import streamlit as st\n",
    "import matplotlib.pyplot as plt\n",
    "from pathlib import Path\n",
    "\n",
    "#can drop this if you want popups you can resize\n",
    "%matplotlib inline "
   ]
  },
  {
   "cell_type": "code",
   "execution_count": null,
   "id": "20708eb8-226b-479d-b52e-67f11a509666",
   "metadata": {},
   "outputs": [],
   "source": [
    "file_path = r'C:\\Users\\justi\\Documents\\Projects\\Data\\Baseball_databank'\n",
    "\n",
    "teams_path = file_path + '\\Teams.csv'\n",
    "salary_path = file_path + '\\Salaries.csv'\n",
    "batting_path = file_path + '\\Batting.csv'"
   ]
  },
  {
   "cell_type": "code",
   "execution_count": null,
   "id": "3ee91f08-db48-41d3-877e-c6dd872d9981",
   "metadata": {},
   "outputs": [],
   "source": [
    "teams_df = pd.read_csv(teams_path)\n",
    "teams_df = teams_df[teams_df['yearID'] >= 1985]\n",
    "teams_df.info()"
   ]
  },
  {
   "cell_type": "code",
   "execution_count": null,
   "id": "f7b437bd-810d-44c8-9a21-d84f49b5be77",
   "metadata": {},
   "outputs": [],
   "source": [
    "salary_df = pd.read_csv(salary_path)\n",
    "salary_df = salary_df[salary_df['yearID'] >= 1985]\n",
    "salary_df.info()"
   ]
  },
  {
   "cell_type": "code",
   "execution_count": null,
   "id": "289914f8-c1d7-49d8-9987-c263166f9204",
   "metadata": {},
   "outputs": [],
   "source": [
    "# How have salaries evolved by division over the years?\n",
    "# Sum of salaries by division by year, then dig in by team\n",
    "\n",
    "# .reset_index() converts back to a pandas dataframe, otherwise it would have been a series\n",
    "\n",
    "team_salary_by_year_df = salary_df.groupby(['yearID','teamID','lgID'])['salary'].sum().reset_index()\n",
    "team_salary_by_year_df.head()"
   ]
  },
  {
   "cell_type": "code",
   "execution_count": null,
   "id": "47fbed17-4d08-4f0f-87eb-99b3c02d223f",
   "metadata": {},
   "outputs": [],
   "source": [
    "# cool reference material for graphs here:\n",
    "# https://medium.com/dataexplorations/reproducing-the-baseball-salary-visualization-from-fivethirtyeight-in-matplotlib-1af449beb409\n",
    "# Lets try and recreate!\n",
    "\n",
    "team_salary_by_year_df['salary_zscore'] = team_salary_by_year_df.groupby(['yearID'])['salary'].transform(\n",
    "    lambda x: (x - x.mean()) / x.std()\n",
    ")\n",
    "\n",
    "team_salary_by_year_df.head()"
   ]
  },
  {
   "cell_type": "code",
   "execution_count": null,
   "id": "ee595798-f51e-47c8-ab5c-bacf733b92d3",
   "metadata": {},
   "outputs": [],
   "source": [
    "teams_df.head()"
   ]
  },
  {
   "cell_type": "code",
   "execution_count": null,
   "id": "bb7be6b8-884c-4f33-a2c9-b04712acdbfb",
   "metadata": {},
   "outputs": [],
   "source": [
    "#now, lets get win rates. First step is grabbing season wins and losses from the teams table and cleaning it up\n",
    "copy_teams_df = teams_df[['yearID','lgID','teamID','G','W','L']]\n",
    "copy_teams_df = copy_teams_df[(teams_df['yearID'] >= 1985)].reset_index().drop('index',axis=1)\n",
    "copy_teams_df.head()"
   ]
  },
  {
   "cell_type": "code",
   "execution_count": null,
   "id": "5d3135dd",
   "metadata": {},
   "outputs": [],
   "source": [
    "copy_teams_df.info()"
   ]
  },
  {
   "cell_type": "code",
   "execution_count": null,
   "id": "afc617ea-2da6-420c-9133-8f20b87066d1",
   "metadata": {},
   "outputs": [],
   "source": [
    "# Now that we have wins and total # games (W and G)\n",
    "copy_teams_df['win_rate'] = copy_teams_df['W']/copy_teams_df['G']\n",
    "copy_teams_df.head()"
   ]
  },
  {
   "cell_type": "code",
   "execution_count": null,
   "id": "6dbfc626-329c-4156-8cad-5da50dfd3ba7",
   "metadata": {},
   "outputs": [],
   "source": [
    "merged_df = team_salary_by_year_df.merge(copy_teams_df, on = ['yearID','lgID', 'teamID']).reset_index().drop('index',axis = 1)\n",
    "merged_df.head()"
   ]
  },
  {
   "cell_type": "code",
   "execution_count": null,
   "id": "4fb17713-1779-4f7e-bb13-c5070f0e3dfc",
   "metadata": {},
   "outputs": [],
   "source": [
    "# Lets start with one scatterplot for the Phillies (go Matt). THink it's PHI but lets check\n",
    "a = merged_df['teamID'].unique()\n",
    "print(sorted(a))"
   ]
  },
  {
   "cell_type": "code",
   "execution_count": null,
   "id": "5a478c01-761e-441a-a3a1-9eef3c56461b",
   "metadata": {},
   "outputs": [],
   "source": [
    "phillies = merged_df[(merged_df['teamID'] == 'PHI')].reset_index().drop('index', axis = 1)\n",
    "phillies.head()"
   ]
  },
  {
   "cell_type": "code",
   "execution_count": null,
   "id": "a309da34-f9e3-4c5a-b9eb-b19ac32431e9",
   "metadata": {},
   "outputs": [],
   "source": [
    "# Now, lets graph this!\n",
    "plt.scatter(phillies['salary_zscore'],phillies['win_rate'], alpha = 0.5)\n",
    "plt.title(\"PHI\")\n",
    "plt.xlabel(\"Standardized Salaries\")\n",
    "plt.ylabel(\"Win Rate\")\n",
    "\n",
    "#plotting a grid axes (win rate at y=0.5, Salary zscore at x=0)\n",
    "# this also looks like it forces the graph space to be square and centered somewhat - cool\n",
    "plt.hlines(0.5,-2,2)\n",
    "plt.vlines(0,0.4,0.6)\n",
    "\n",
    "# I want to add a line of best fit to the graph for the win rate. Going to use the polyfit function in NumPy, although this is outdated. Come back and update\n",
    "z = np.polyfit(phillies['salary_zscore'],phillies['win_rate'], 1)\n",
    "p = np.poly1d(z)\n",
    "\n",
    "plt.plot(phillies['salary_zscore'], p(phillies['salary_zscore']),alpha=0.8,c ='#1f77b4',linewidth =3)\n",
    "\n",
    "plt.show()"
   ]
  },
  {
   "cell_type": "code",
   "execution_count": null,
   "id": "7b00cf8c-8557-4809-b67b-0ec5e87aeff4",
   "metadata": {},
   "outputs": [],
   "source": [
    "# Lets do this again, but tweaking a bit to remove the border and add a gridline.\n",
    "# Also, switching from deprecated polyfit method to NumPy's polynomial.Polynomial method\n",
    "# Finally, remove the border on the graph using teh ax.spines method\n",
    "\n",
    "# not sure how declaring fig, ax and using subplots allowes the use of spines \n",
    "fig, ax = plt.subplots(figsize=(5, 5))\n",
    "ax.scatter(x=phillies['salary_zscore'], y=phillies['win_rate'], alpha=0.5)\n",
    "plt.title('PHI')\n",
    "plt.ylabel('Win Rate')\n",
    "plt.xlabel('Standardized Salaries')\n",
    "\n",
    "plt.hlines(0.5, -2, 2)\n",
    "plt.vlines(0,0.3,0.7)\n",
    "\n",
    "# To create my polynomial overlay and set it's visual appearance\n",
    "degree = 2\n",
    "polynomial = np.polynomial.Polynomial.fit(phillies['salary_zscore'], phillies['win_rate'], degree)\n",
    "ax.grid(color='grey', linestyle ='-', linewidth=0.25, alpha=0.5)\n",
    "\n",
    "# Remove all spines at once from the graph\n",
    "for spine in ax.spines.values():\n",
    "    spine.set_visible(False)\n",
    "\n",
    "plt.plot(phillies['salary_zscore'], polynomial(phillies['salary_zscore']),alpha=0.8,c ='#1f77b4',linewidth =3)\n",
    "\n",
    "plt.show()"
   ]
  },
  {
   "cell_type": "code",
   "execution_count": null,
   "id": "8ae3d9d5-a96f-412e-99b3-18b11311099d",
   "metadata": {},
   "outputs": [],
   "source": [
    "# Print the polynomial and equation\n",
    "print(f\"Polynomial: {polynomial}\")\n",
    "print(f\"Coefficients: {polynomial.coef}\")\n",
    "\n",
    "# Just for fun, what's the R-Squared for this estimate?\n",
    "y = phillies['salary_zscore']\n",
    "y_pred = polynomial(y)\n",
    "ss_res = np.sum((y - y_pred) ** 2)\n",
    "ss_tot = np.sum((y - np.mean(y)) ** 2)\n",
    "r_squared = 1 - (ss_res / ss_tot)\n",
    "print(f\"R-Squared: {r_squared}\")\n",
    "\n",
    "# Odd NumPy doesn't have an R-squared method built in. Sklearn.metrics r2_score"
   ]
  },
  {
   "cell_type": "code",
   "execution_count": null,
   "id": "ae8fe580-38cc-4908-b199-887a86e165af",
   "metadata": {},
   "outputs": [],
   "source": [
    "fig, ax = plt.subplots(nrows=1, ncols=5,figsize=(15,5),sharex=True, sharey=True)"
   ]
  },
  {
   "cell_type": "code",
   "execution_count": null,
   "id": "f5662a04-aac8-49d3-b156-bae765d65a39",
   "metadata": {},
   "outputs": [],
   "source": [
    "# Now, lets make a function that lets us do this for any team we want\n",
    "\n",
    "def plot_team(team_df, ax, team_color):\n",
    "    '''\n",
    "        This creates a subplot for 1 team.\n",
    "        team_df is the dataframe with info for that team\n",
    "        ax lets us specify the subplot location\n",
    "        team_color is for, well, the team color\n",
    "    '''\n",
    "    # Create your subplots so that the function knows where to put things\n",
    "    # fig, ax = plt.subplots(figsize=(5, 5))\n",
    "    # NOTE: Taking this out as when you call it later when plotting all teams in league, it overrides the subplot there. Only un-comment for testing\n",
    "    \n",
    "    #generate line of best fit & plot\n",
    "    z = np.polynomial.Polynomial.fit(team_df['salary_zscore'],team_df['win_rate'], 1)\n",
    "    ax.plot(team_df['salary_zscore'],z(team_df['salary_zscore']), alpha = 0.8, c=team_color, linewidth = 3)\n",
    "\n",
    "    # Plot zscore and win rate\n",
    "    ax.scatter(x=team_df['salary_zscore'], y=team_df['win_rate'], alpha=0.5, c=team_color)\n",
    "    ax.set_title(f\"{team_df['teamID'].values[0]}\")\n",
    "    \n",
    "    # Set axes lines and reduce tickmarks\n",
    "    ax.hlines(0.5,-2.5,2.5,'k')\n",
    "    ax.vlines(0,0.3,0.7,'k')\n",
    "    ax.set_xticks([-2,0,2])\n",
    "\n",
    "    # Removing spines with code from earlier\n",
    "    for spine in ax.spines.values():\n",
    "        spine.set_visible(False)\n",
    "    \n",
    "    # Set grid visuals\n",
    "    ax.grid(color='grey', linestyle='-', linewidth=0.25, alpha=0.5)"
   ]
  },
  {
   "cell_type": "markdown",
   "id": "a6d75558-bc44-4358-b1cb-09ad76ecd61a",
   "metadata": {},
   "source": [
    "## **NOTE:** The following 2 cells below won't run unless you un-comment line 11 in the cell above"
   ]
  },
  {
   "cell_type": "code",
   "execution_count": null,
   "id": "a337fc0b-cfae-417e-a557-e9018842902a",
   "metadata": {},
   "outputs": [],
   "source": [
    "#plot_team(merged_df[(merged_df['teamID']=='ATL')],ax,)"
   ]
  },
  {
   "cell_type": "code",
   "execution_count": null,
   "id": "8d7e37cb-7310-4646-84c6-d6e118ed1a84",
   "metadata": {},
   "outputs": [],
   "source": [
    "al_east_team_dict={\n",
    "    'BAL':'#FF6F1C', \n",
    "    'BOS':'#FFB627',\n",
    "    'NYA':'#223843', \n",
    "    'TOR':'#1f77b4', \n",
    "    'FLO':'#FFCAD4'\n",
    "}\n",
    "for team, color in al_east_team_dict.items():\n",
    "    plot_team(merged_df[(merged_df['teamID']==team)],ax,color)"
   ]
  },
  {
   "cell_type": "code",
   "execution_count": null,
   "id": "8696b318-709f-44cb-8447-0868976790ed",
   "metadata": {},
   "outputs": [],
   "source": [
    "# create a plot that's 1 row and 5 columns wide\n",
    "# sharex=True, sharey=True: these plots will share the same x and y axis\n",
    "fig, ax = plt.subplots(nrows=1, ncols=5,figsize=(15,5),sharex=True, sharey=True)\n",
    "# set an overall title for the plot\n",
    "fig.suptitle('American League East', ha='center',color = 'grey',fontsize=20,va='top',) \n",
    "# help the subplots fit better\n",
    "fig.subplots_adjust(hspace = .5, wspace=.001)\n",
    "\n",
    "pos=0 # determines which axes object we will pass into the function to be filled by the team's plot\n",
    "for team,color in al_east_team_dict.items():\n",
    "    plot_team(merged_df[(merged_df['teamID']==team)], ax[pos],color)\n",
    "    pos+=1\n",
    "    \n",
    "# Force label to appear on first plot rather than the last plot\n",
    "ax[0].set(xlabel='Salary Z-scores', ylabel='Winning Percentage')"
   ]
  },
  {
   "cell_type": "code",
   "execution_count": null,
   "id": "60ed2fca-1b7a-4b51-8422-37240a583bd5",
   "metadata": {},
   "outputs": [],
   "source": [
    "# Now, lets do this for all leagues and teams!!\n",
    "al_central_team_dict={\n",
    "    'CLE':'#FF6F1C', \n",
    "    'MIN':'#FFB627',\n",
    "    'DET':'#223843', \n",
    "    'CHA':'#1f77b4', \n",
    "    'KCA':'#FFCAD4'\n",
    "}\n",
    "al_west_team_dict={\n",
    "    'HOU':'#FF6F1C', \n",
    "    'OAK':'#FFB627',\n",
    "    'SEA':'#223843', \n",
    "    'LAN':'#1f77b4', \n",
    "    'TEX':'#FFCAD4'\n",
    "}\n",
    "\n",
    "nl_central_team_dict={\n",
    "    'ML4':'#FF6F1C', \n",
    "    'CHN':'#FFB627',\n",
    "    'SLN':'#223843', \n",
    "    'PIT':'#1f77b4', \n",
    "    'CIN':'#FFCAD4'\n",
    "}\n",
    "nl_west_team_dict={\n",
    "    'LAN':'#FF6F1C', \n",
    "    'COL':'#FFB627',\n",
    "    'ARI':'#223843', \n",
    "    'SFN':'#1f77b4', \n",
    "    'SDN':'#FFCAD4'\n",
    "}\n",
    "nl_east_team_dict={\n",
    "    'ATL':'#FF6F1C', \n",
    "    'WAS':'#FFB627',\n",
    "    'PHI':'#223843', \n",
    "    'NYN':'#1f77b4', \n",
    "    'MIA':'#FFCAD4'\n",
    "}\n",
    "\n",
    "league_list = [al_east_team_dict, al_central_team_dict,al_west_team_dict, nl_east_team_dict, nl_central_team_dict, nl_west_team_dict]"
   ]
  },
  {
   "cell_type": "code",
   "execution_count": null,
   "id": "2d14d2b2-00aa-4714-b178-08341d127401",
   "metadata": {},
   "outputs": [],
   "source": [
    "# To fit everyone, we need a subplot that's 6 rows and 5 columns\n",
    "fig, ax = plt.subplots(nrows=6, ncols=5,figsize=(15,15),sharex=True, sharey=True)\n",
    "\n",
    "# set a title for the whole plot\n",
    "fig.suptitle('MLB: Spend more, Win more?', ha='center',color = 'grey',fontsize=20,va='top',) \n",
    "\n",
    "# help the subplots fit better\n",
    "fig.subplots_adjust(hspace = .5, wspace=.001)\n",
    "\n",
    "#ax[count[pos]:  the axes object contains a numpy array for each row with 5 sub plots (count indicates the row and pos indicates the column)\n",
    "count = 0 # sets the row to be filled \n",
    "for league in league_list:\n",
    "    pos=0 # sets the column to be filled by a given team in the division\n",
    "    for team,color in league.items():\n",
    "        plot_team(merged_df[(merged_df['teamID']==team)], ax[count][pos],color)\n",
    "        pos=pos+1\n",
    "    count += 1"
   ]
  },
  {
   "cell_type": "markdown",
   "id": "5dff3ca7-8383-44f3-9798-c0d73704793b",
   "metadata": {},
   "source": [
    "## Predictions\n",
    "\n",
    "Cool! Now, lets actually try and *predict* win rates here, since that's ultimately what we want to do with this project. Since I don't know much about baseball, looking to this resource for a few ideas.\n",
    "\n",
    "https://www.samford.edu/sports-analytics/fans/2022/MLB-Winning-Percentage-Breakdown-Which-Statistics-Help-Teams-Win-More-Games"
   ]
  },
  {
   "cell_type": "markdown",
   "id": "a8498999-3654-4f4d-aeef-af42b2da37f1",
   "metadata": {},
   "source": [
    "I'm going to start off with the 'Pythagorean Theorem of Baseball', or run differential. TLDR: outscore your opponents, win the game. Seems simnple enough. Right? Run differential is simply the number of runs scored less runs allowed. This is in the Teams.csv as RA and R."
   ]
  },
  {
   "cell_type": "code",
   "execution_count": null,
   "id": "2438d34d-9908-4991-9621-41a1aed0bd57",
   "metadata": {},
   "outputs": [],
   "source": [
    "teams_df.info()"
   ]
  },
  {
   "cell_type": "code",
   "execution_count": null,
   "id": "0d014403-1862-4150-9285-a954d52488e1",
   "metadata": {},
   "outputs": [],
   "source": [
    "teams_df['run_differential'] = teams_df['R'] - teams_df['RA']\n",
    "teams_df.info()"
   ]
  },
  {
   "cell_type": "code",
   "execution_count": null,
   "id": "6012e0b7-0a23-40d2-b425-a6d79828657e",
   "metadata": {},
   "outputs": [],
   "source": [
    "teams_df_trimmed = teams_df[teams_df['yearID']==2015].reset_index().drop('index',axis = 1)\n",
    "teams_df_trimmed.head()"
   ]
  },
  {
   "cell_type": "code",
   "execution_count": null,
   "id": "1c150dd3-1de0-4dce-afc4-7ab03e482f4b",
   "metadata": {},
   "outputs": [],
   "source": [
    "plt.scatter(teams_df_trimmed['W'],teams_df_trimmed['run_differential'], alpha = 0.75)\n",
    "\n",
    "plt.title('Wins vs. Run Diff')\n",
    "plt.xlabel('Wins')\n",
    "plt.ylabel('Run Diff')\n",
    "plt.hlines(0,65,100)\n",
    "\n",
    "# Lets fit a line and output the coefs \n",
    "\n",
    "polynomial = np.polynomial.Polynomial.fit(teams_df_trimmed['W'], teams_df_trimmed['run_differential'], 1)\n",
    "plt.plot(teams_df_trimmed['W'], polynomial(teams_df_trimmed['W']), alpha = 0.8, c= '#FF694D')\n",
    "\n",
    "#plt.plot(phillies['salary_zscore'], polynomial(phillies['salary_zscore']),alpha=0.8,c ='#1f77b4',linewidth =3)\n",
    "\n",
    "plt.show()"
   ]
  },
  {
   "cell_type": "markdown",
   "id": "86fa4e48-a1c8-4023-8e87-43224223f48c",
   "metadata": {},
   "source": [
    "If it wasn't obvious before, scoring more than your opponent is a pretty good indicator on if you'll win. What about pitching? Does better pitching (like fewer runs allowed) lead to higher win rates than good hitting?"
   ]
  },
  {
   "cell_type": "code",
   "execution_count": null,
   "id": "f9dc275e",
   "metadata": {},
   "outputs": [],
   "source": []
  }
 ],
 "metadata": {
  "kernelspec": {
   "display_name": "MLB_v1",
   "language": "python",
   "name": "python3"
  },
  "language_info": {
   "codemirror_mode": {
    "name": "ipython",
    "version": 3
   },
   "file_extension": ".py",
   "mimetype": "text/x-python",
   "name": "python",
   "nbconvert_exporter": "python",
   "pygments_lexer": "ipython3",
   "version": "3.10.18"
  }
 },
 "nbformat": 4,
 "nbformat_minor": 5
}
