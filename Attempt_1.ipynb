{
 "cells": [
  {
   "cell_type": "code",
   "execution_count": null,
   "id": "cbd3e8c6-385e-47dc-97a4-d13ba11f08dc",
   "metadata": {},
   "outputs": [],
   "source": [
    "import pandas as pd\n",
    "import numpy as np\n",
    "import streamlit as st\n",
    "import matplotlib.pyplot as plt\n",
    "from pathlib import Path"
   ]
  },
  {
   "cell_type": "code",
   "execution_count": null,
   "id": "20708eb8-226b-479d-b52e-67f11a509666",
   "metadata": {},
   "outputs": [],
   "source": [
    "file_path = r'C:\\Users\\justi\\Documents\\Projects\\Data\\Baseball_databank'\n",
    "\n",
    "teams_path = file_path + '\\Teams.csv'\n",
    "salary_path = file_path + '\\Salaries.csv'\n",
    "batting_path = file_path + '\\Batting.csv'"
   ]
  },
  {
   "cell_type": "code",
   "execution_count": null,
   "id": "3ee91f08-db48-41d3-877e-c6dd872d9981",
   "metadata": {},
   "outputs": [],
   "source": [
    "teams_df = pd.read_csv(teams_path)\n",
    "teams_df = teams_df[teams_df['yearID'] >= 1985]\n",
    "teams_df.info()"
   ]
  },
  {
   "cell_type": "code",
   "execution_count": null,
   "id": "f7b437bd-810d-44c8-9a21-d84f49b5be77",
   "metadata": {},
   "outputs": [],
   "source": [
    "salary_df = pd.read_csv(salary_path)\n",
    "salary_df = salary_df[salary_df['yearID'] >= 1985]\n",
    "salary_df.info()"
   ]
  },
  {
   "cell_type": "code",
   "execution_count": null,
   "id": "289914f8-c1d7-49d8-9987-c263166f9204",
   "metadata": {},
   "outputs": [],
   "source": [
    "# How have salaries evolved by division over the years?\n",
    "# Sum of salaries by division by year, then dig in by team\n",
    "\n",
    "# .reset_index() converts back to a pandas dataframe, otherwise it would have been a series\n",
    "\n",
    "team_salary_by_year_df = salary_df.groupby(['yearID','teamID','lgID'])['salary'].sum().reset_index()\n",
    "team_salary_by_year_df.head()"
   ]
  },
  {
   "cell_type": "code",
   "execution_count": null,
   "id": "47fbed17-4d08-4f0f-87eb-99b3c02d223f",
   "metadata": {},
   "outputs": [],
   "source": [
    "# cool reference material for graphs here:\n",
    "# https://medium.com/dataexplorations/reproducing-the-baseball-salary-visualization-from-fivethirtyeight-in-matplotlib-1af449beb409\n",
    "# Lets try and recreate!\n",
    "\n",
    "team_salary_by_year_df['salary_zscore'] = team_salary_by_year_df.groupby(['yearID'])['salary'].transform(\n",
    "    lambda x: (x - x.mean()) / x.std()\n",
    ")\n",
    "\n",
    "team_salary_by_year_df.head()"
   ]
  },
  {
   "cell_type": "code",
   "execution_count": null,
   "id": "ee595798-f51e-47c8-ab5c-bacf733b92d3",
   "metadata": {},
   "outputs": [],
   "source": [
    "teams_df.head()"
   ]
  },
  {
   "cell_type": "code",
   "execution_count": null,
   "id": "bb7be6b8-884c-4f33-a2c9-b04712acdbfb",
   "metadata": {},
   "outputs": [],
   "source": [
    "#now, lets get win rates. First step is grabbing season wins and losses from the teams table and cleaning it up\n",
    "teams_df = teams_df[['yearID','lgID','teamID','G','W','L']]\n",
    "teams_df = teams_df[(teams_df['yearID'] >= 1985)].reset_index().drop('index',axis=1)\n",
    "teams_df.head()"
   ]
  },
  {
   "cell_type": "code",
   "execution_count": null,
   "id": "afc617ea-2da6-420c-9133-8f20b87066d1",
   "metadata": {},
   "outputs": [],
   "source": [
    "# Now that we have wins and total # games (W and G)\n",
    "teams_df['win_rate'] = teams_df['W']/teams_df['G']\n",
    "teams_df.head()"
   ]
  },
  {
   "cell_type": "code",
   "execution_count": null,
   "id": "6dbfc626-329c-4156-8cad-5da50dfd3ba7",
   "metadata": {},
   "outputs": [],
   "source": [
    "merged_df = team_salary_by_year_df.merge(teams_df, on = ['yearID','lgID', 'teamID']).reset_index().drop('index',axis = 1)\n",
    "merged_df.head()"
   ]
  },
  {
   "cell_type": "code",
   "execution_count": null,
   "id": "4fb17713-1779-4f7e-bb13-c5070f0e3dfc",
   "metadata": {},
   "outputs": [],
   "source": [
    "# Lets start with one scatterplot for the Phillies (go Matt). THink it's PHI but lets check\n",
    "a = merged_df['teamID'].unique()\n",
    "print(sorted(a))"
   ]
  },
  {
   "cell_type": "code",
   "execution_count": null,
   "id": "a309da34-f9e3-4c5a-b9eb-b19ac32431e9",
   "metadata": {},
   "outputs": [],
   "source": [
    "# Now, lets graph this!\n",
    "plt.scatter(x = phillies['salary_zscore'], y = phillies['win_rate'], alpha = 0.5)\n",
    "plt.title(\"PHI\")\n",
    "plt.xlabel(\"Standardized Salaries\")\n",
    "plt.ylabel(\"Win Rate\")\n",
    "\n",
    "#plotting a grid axes (win rate at y=0.5, Salary zscore at x=0)\n",
    "# this also looks like it forces the graph space to be square and centered somewhat - cool\n",
    "plt.hlines(0.5,-2,2)\n",
    "plt.vlines(0,0.4,0.6)\n",
    "\n",
    "# I want to add a line of best fit to the graph for the win rate. Going to use the polyfit function in NumPy, although this is outdated. Come back and update\n",
    "z = np.polyfit(phillies['salary_zscore'],phillies['win_rate'], 1)\n",
    "p = np.poly1d(z)\n",
    "\n",
    "plt.plot(phillies['salary_zscore'], p(phillies['salary_zscore']),alpha=0.8,c ='#1f77b4',linewidth =3)\n",
    "\n",
    "plt.show()"
   ]
  },
  {
   "cell_type": "code",
   "execution_count": null,
   "id": "7b00cf8c-8557-4809-b67b-0ec5e87aeff4",
   "metadata": {},
   "outputs": [],
   "source": [
    "# Lets do this again, but tweaking a bit to remove the border and add a gridline.\n",
    "\n",
    "# not sure how declaring fig, ax and using subplots allowes the use of spines \n",
    "fig, ax = plt.subplots(figsize=(5, 5))\n",
    "ax.scatter(x=phillies['salary_zscore'], y=phillies['win_rate'], alpha=0.5)\n",
    "plt.title('PHI')\n",
    "plt.ylabel('Win Rate')\n",
    "plt.xlabel('Standardized Salaries')\n",
    "\n",
    "plt.hlines(0.5, -2, 2)\n",
    "plt.vlines(0,0.3,0.7)\n",
    "\n",
    "ax.spines['top'].set_visible(False)\n",
    "ax.spines['right'].set_visible(False)\n",
    "ax.spines['bottom'].set_visible(False)\n",
    "ax.spines['left'].set_visible(False)\n",
    "ax.grid(color='grey', linestyle ='-', linewidth=0.25, alpha=0.5)\n",
    "\n",
    "z = np.polyfit(phillies['salary_zscore'],phillies['win_rate'], 1)\n",
    "p = np.poly1d(z)\n",
    "\n",
    "plt.plot(phillies['salary_zscore'], p(phillies['salary_zscore']),alpha=0.8,c ='#1f77b4',linewidth =3)\n",
    "\n",
    "plt.show()"
   ]
  },
  {
   "cell_type": "code",
   "execution_count": null,
   "id": "c1a3bc2a-a57a-43a1-9a22-0b7924514e4d",
   "metadata": {},
   "outputs": [],
   "source": []
  }
 ],
 "metadata": {
  "kernelspec": {
   "display_name": "Python 3 (ipykernel)",
   "language": "python",
   "name": "python3"
  },
  "language_info": {
   "codemirror_mode": {
    "name": "ipython",
    "version": 3
   },
   "file_extension": ".py",
   "mimetype": "text/x-python",
   "name": "python",
   "nbconvert_exporter": "python",
   "pygments_lexer": "ipython3",
   "version": "3.10.18"
  }
 },
 "nbformat": 4,
 "nbformat_minor": 5
}
