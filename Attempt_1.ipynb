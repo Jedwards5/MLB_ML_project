{
 "cells": [
  {
   "cell_type": "code",
   "execution_count": null,
   "id": "cbd3e8c6-385e-47dc-97a4-d13ba11f08dc",
   "metadata": {},
   "outputs": [],
   "source": [
    "import pandas as pd\n",
    "import numpy as np\n",
    "import streamlit as st\n",
    "import matplotlib as plt\n",
    "from pathlib import Path"
   ]
  },
  {
   "cell_type": "code",
   "execution_count": null,
   "id": "20708eb8-226b-479d-b52e-67f11a509666",
   "metadata": {},
   "outputs": [],
   "source": [
    "file_path = r'C:\\Users\\justi\\Documents\\Projects\\Data\\Baseball_databank'\n",
    "\n",
    "teams_path = file_path + '\\Teams.csv'\n",
    "salary_path = file_path + '\\Salaries.csv'\n",
    "batting_path = file_path + '\\Batting.csv'"
   ]
  },
  {
   "cell_type": "code",
   "execution_count": null,
   "id": "3ee91f08-db48-41d3-877e-c6dd872d9981",
   "metadata": {},
   "outputs": [],
   "source": [
    "teams_df = pd.read_csv(teams_path)\n",
    "teams_df = teams_df[teams_df['yearID'] >= 2000]\n",
    "teams_df.info()"
   ]
  },
  {
   "cell_type": "code",
   "execution_count": null,
   "id": "f7b437bd-810d-44c8-9a21-d84f49b5be77",
   "metadata": {},
   "outputs": [],
   "source": [
    "salary_df = pd.read_csv(salary_path)\n",
    "salary_df = salary_df[salary_df['yearID'] >= 1985]\n",
    "salary_df.info()"
   ]
  },
  {
   "cell_type": "code",
   "execution_count": null,
   "id": "289914f8-c1d7-49d8-9987-c263166f9204",
   "metadata": {},
   "outputs": [],
   "source": [
    "# How have salaries evolved by division over the years?\n",
    "# Sum of salaries by division by year, then dig in by team\n",
    "\n",
    "# .reset_index() converts back to a pandas dataframe, otherwise it would have been a series\n",
    "\n",
    "team_salary_by_year_df = salary_df.groupby(['yearID','teamID','lgID'])['salary'].sum().reset_index()\n",
    "team_salary_by_year_df.head()"
   ]
  },
  {
   "cell_type": "code",
   "execution_count": null,
   "id": "47fbed17-4d08-4f0f-87eb-99b3c02d223f",
   "metadata": {},
   "outputs": [],
   "source": [
    "# cool reference material for graphs here:\n",
    "# https://medium.com/dataexplorations/reproducing-the-baseball-salary-visualization-from-fivethirtyeight-in-matplotlib-1af449beb409\n",
    "# Lets try and recreate!\n",
    "\n",
    "salary_data_df['salary_zscore'] = team_salary_by_year_df.groupby(['yearID','lgID'])['salary'].transform(\n",
    "    lambda x: (x - x.mean()) / x.std()\n",
    ")\n",
    "\n",
    "salary_data_df.head()"
   ]
  },
  {
   "cell_type": "code",
   "execution_count": null,
   "id": "fb4c920d-5c1b-4df6-b217-e358f5c66eb9",
   "metadata": {},
   "outputs": [],
   "source": []
  }
 ],
 "metadata": {
  "kernelspec": {
   "display_name": "Python 3 (ipykernel)",
   "language": "python",
   "name": "python3"
  },
  "language_info": {
   "codemirror_mode": {
    "name": "ipython",
    "version": 3
   },
   "file_extension": ".py",
   "mimetype": "text/x-python",
   "name": "python",
   "nbconvert_exporter": "python",
   "pygments_lexer": "ipython3",
   "version": "3.10.18"
  }
 },
 "nbformat": 4,
 "nbformat_minor": 5
}
