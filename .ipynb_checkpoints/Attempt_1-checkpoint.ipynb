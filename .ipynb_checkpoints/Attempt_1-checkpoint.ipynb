{
 "cells": [
  {
   "cell_type": "code",
   "execution_count": 17,
   "id": "cbd3e8c6-385e-47dc-97a4-d13ba11f08dc",
   "metadata": {},
   "outputs": [],
   "source": [
    "import pandas as pd\n",
    "import numpy as np\n",
    "import streamlit as st\n",
    "import matplotlib as plt\n",
    "from pathlib import Path"
   ]
  },
  {
   "cell_type": "code",
   "execution_count": 7,
   "id": "20708eb8-226b-479d-b52e-67f11a509666",
   "metadata": {},
   "outputs": [],
   "source": [
    "file_path = r'C:\\Users\\justi\\Documents\\Projects\\Data\\Baseball_databank'\n",
    "\n",
    "teams_path = file_path + '\\Teams.csv'\n",
    "salary_path = file_path + '\\Salaries.csv'\n",
    "batting_path = file_path + '\\Batting.csv'"
   ]
  },
  {
   "cell_type": "code",
   "execution_count": 15,
   "id": "3ee91f08-db48-41d3-877e-c6dd872d9981",
   "metadata": {},
   "outputs": [
    {
     "name": "stdout",
     "output_type": "stream",
     "text": [
      "<class 'pandas.core.frame.DataFrame'>\n",
      "Index: 480 entries, 2325 to 2804\n",
      "Data columns (total 48 columns):\n",
      " #   Column          Non-Null Count  Dtype  \n",
      "---  ------          --------------  -----  \n",
      " 0   yearID          480 non-null    int64  \n",
      " 1   lgID            480 non-null    object \n",
      " 2   teamID          480 non-null    object \n",
      " 3   franchID        480 non-null    object \n",
      " 4   divID           480 non-null    object \n",
      " 5   Rank            480 non-null    int64  \n",
      " 6   G               480 non-null    int64  \n",
      " 7   Ghome           480 non-null    float64\n",
      " 8   W               480 non-null    int64  \n",
      " 9   L               480 non-null    int64  \n",
      " 10  DivWin          480 non-null    object \n",
      " 11  WCWin           480 non-null    object \n",
      " 12  LgWin           480 non-null    object \n",
      " 13  WSWin           480 non-null    object \n",
      " 14  R               480 non-null    int64  \n",
      " 15  AB              480 non-null    int64  \n",
      " 16  H               480 non-null    int64  \n",
      " 17  2B              480 non-null    int64  \n",
      " 18  3B              480 non-null    int64  \n",
      " 19  HR              480 non-null    int64  \n",
      " 20  BB              480 non-null    int64  \n",
      " 21  SO              480 non-null    float64\n",
      " 22  SB              480 non-null    float64\n",
      " 23  CS              480 non-null    float64\n",
      " 24  HBP             480 non-null    float64\n",
      " 25  SF              480 non-null    float64\n",
      " 26  RA              480 non-null    int64  \n",
      " 27  ER              480 non-null    int64  \n",
      " 28  ERA             480 non-null    float64\n",
      " 29  CG              480 non-null    int64  \n",
      " 30  SHO             480 non-null    int64  \n",
      " 31  SV              480 non-null    int64  \n",
      " 32  IPouts          480 non-null    int64  \n",
      " 33  HA              480 non-null    int64  \n",
      " 34  HRA             480 non-null    int64  \n",
      " 35  BBA             480 non-null    int64  \n",
      " 36  SOA             480 non-null    int64  \n",
      " 37  E               480 non-null    int64  \n",
      " 38  DP              480 non-null    float64\n",
      " 39  FP              480 non-null    float64\n",
      " 40  name            480 non-null    object \n",
      " 41  park            480 non-null    object \n",
      " 42  attendance      480 non-null    float64\n",
      " 43  BPF             480 non-null    int64  \n",
      " 44  PPF             480 non-null    int64  \n",
      " 45  teamIDBR        480 non-null    object \n",
      " 46  teamIDlahman45  480 non-null    object \n",
      " 47  teamIDretro     480 non-null    object \n",
      "dtypes: float64(10), int64(25), object(13)\n",
      "memory usage: 183.8+ KB\n"
     ]
    }
   ],
   "source": [
    "teams_df = pd.read_csv(teams_path)\n",
    "teams_df = teams_df[teams_df['yearID'] >= 2000]\n",
    "teams_df.info()"
   ]
  },
  {
   "cell_type": "code",
   "execution_count": 31,
   "id": "f7b437bd-810d-44c8-9a21-d84f49b5be77",
   "metadata": {},
   "outputs": [
    {
     "name": "stdout",
     "output_type": "stream",
     "text": [
      "<class 'pandas.core.frame.DataFrame'>\n",
      "RangeIndex: 25575 entries, 0 to 25574\n",
      "Data columns (total 5 columns):\n",
      " #   Column    Non-Null Count  Dtype \n",
      "---  ------    --------------  ----- \n",
      " 0   yearID    25575 non-null  int64 \n",
      " 1   teamID    25575 non-null  object\n",
      " 2   lgID      25575 non-null  object\n",
      " 3   playerID  25575 non-null  object\n",
      " 4   salary    25575 non-null  int64 \n",
      "dtypes: int64(2), object(3)\n",
      "memory usage: 999.1+ KB\n"
     ]
    }
   ],
   "source": [
    "salary_df = pd.read_csv(salary_path)\n",
    "salary_df = salary_df[salary_df['yearID'] >= 1985]\n",
    "salary_df.info()"
   ]
  },
  {
   "cell_type": "code",
   "execution_count": 33,
   "id": "289914f8-c1d7-49d8-9987-c263166f9204",
   "metadata": {},
   "outputs": [
    {
     "data": {
      "text/html": [
       "<div>\n",
       "<style scoped>\n",
       "    .dataframe tbody tr th:only-of-type {\n",
       "        vertical-align: middle;\n",
       "    }\n",
       "\n",
       "    .dataframe tbody tr th {\n",
       "        vertical-align: top;\n",
       "    }\n",
       "\n",
       "    .dataframe thead th {\n",
       "        text-align: right;\n",
       "    }\n",
       "</style>\n",
       "<table border=\"1\" class=\"dataframe\">\n",
       "  <thead>\n",
       "    <tr style=\"text-align: right;\">\n",
       "      <th></th>\n",
       "      <th>yearID</th>\n",
       "      <th>teamID</th>\n",
       "      <th>lgID</th>\n",
       "      <th>salary</th>\n",
       "    </tr>\n",
       "  </thead>\n",
       "  <tbody>\n",
       "    <tr>\n",
       "      <th>0</th>\n",
       "      <td>1985</td>\n",
       "      <td>ATL</td>\n",
       "      <td>NL</td>\n",
       "      <td>14807000</td>\n",
       "    </tr>\n",
       "    <tr>\n",
       "      <th>1</th>\n",
       "      <td>1985</td>\n",
       "      <td>BAL</td>\n",
       "      <td>AL</td>\n",
       "      <td>11560712</td>\n",
       "    </tr>\n",
       "    <tr>\n",
       "      <th>2</th>\n",
       "      <td>1985</td>\n",
       "      <td>BOS</td>\n",
       "      <td>AL</td>\n",
       "      <td>10897560</td>\n",
       "    </tr>\n",
       "    <tr>\n",
       "      <th>3</th>\n",
       "      <td>1985</td>\n",
       "      <td>CAL</td>\n",
       "      <td>AL</td>\n",
       "      <td>14427894</td>\n",
       "    </tr>\n",
       "    <tr>\n",
       "      <th>4</th>\n",
       "      <td>1985</td>\n",
       "      <td>CHA</td>\n",
       "      <td>AL</td>\n",
       "      <td>9846178</td>\n",
       "    </tr>\n",
       "  </tbody>\n",
       "</table>\n",
       "</div>"
      ],
      "text/plain": [
       "   yearID teamID lgID    salary\n",
       "0    1985    ATL   NL  14807000\n",
       "1    1985    BAL   AL  11560712\n",
       "2    1985    BOS   AL  10897560\n",
       "3    1985    CAL   AL  14427894\n",
       "4    1985    CHA   AL   9846178"
      ]
     },
     "execution_count": 33,
     "metadata": {},
     "output_type": "execute_result"
    }
   ],
   "source": [
    "# How have salaries evolved by division over the years?\n",
    "# Sum of salaries by division by year, then dig in by team\n",
    "\n",
    "# .reset_index() converts back to a pandas dataframe, otherwise it would have been a series\n",
    "\n",
    "team_salary_by_year_df = salary_df.groupby(['yearID','teamID','lgID'])['salary'].sum().reset_index()\n",
    "team_salary_by_year_df.head()"
   ]
  },
  {
   "cell_type": "code",
   "execution_count": 36,
   "id": "47fbed17-4d08-4f0f-87eb-99b3c02d223f",
   "metadata": {},
   "outputs": [
    {
     "ename": "NameError",
     "evalue": "name 'salary_data_df' is not defined",
     "output_type": "error",
     "traceback": [
      "\u001b[1;31m---------------------------------------------------------------------------\u001b[0m",
      "\u001b[1;31mNameError\u001b[0m                                 Traceback (most recent call last)",
      "Cell \u001b[1;32mIn[36], line 1\u001b[0m\n\u001b[1;32m----> 1\u001b[0m \u001b[43msalary_data_df\u001b[49m[\u001b[38;5;124m'\u001b[39m\u001b[38;5;124msalary_zscore\u001b[39m\u001b[38;5;124m'\u001b[39m] \u001b[38;5;241m=\u001b[39m team_salary_by_year_df\u001b[38;5;241m.\u001b[39mgroupby([\u001b[38;5;124m'\u001b[39m\u001b[38;5;124myearID\u001b[39m\u001b[38;5;124m'\u001b[39m,\u001b[38;5;124m'\u001b[39m\u001b[38;5;124mlgID\u001b[39m\u001b[38;5;124m'\u001b[39m])[\u001b[38;5;124m'\u001b[39m\u001b[38;5;124msalary\u001b[39m\u001b[38;5;124m'\u001b[39m]\u001b[38;5;241m.\u001b[39mtransform(\n\u001b[0;32m      2\u001b[0m     \u001b[38;5;28;01mlambda\u001b[39;00m x: (x \u001b[38;5;241m-\u001b[39m x\u001b[38;5;241m.\u001b[39mmean()) \u001b[38;5;241m/\u001b[39m x\u001b[38;5;241m.\u001b[39mstd()\n\u001b[0;32m      3\u001b[0m )\n\u001b[0;32m      5\u001b[0m salary_data_df\u001b[38;5;241m.\u001b[39mhead()\n",
      "\u001b[1;31mNameError\u001b[0m: name 'salary_data_df' is not defined"
     ]
    }
   ],
   "source": [
    "# cool reference material for graphs here:\n",
    "# https://medium.com/dataexplorations/reproducing-the-baseball-salary-visualization-from-fivethirtyeight-in-matplotlib-1af449beb409\n",
    "# Lets try and recreate!\n",
    "\n",
    "salary_data_df['salary_zscore'] = team_salary_by_year_df.groupby(['yearID','lgID'])['salary'].transform(\n",
    "    lambda x: (x - x.mean()) / x.std()\n",
    ")\n",
    "\n",
    "salary_data_df.head()"
   ]
  },
  {
   "cell_type": "code",
   "execution_count": null,
   "id": "fb4c920d-5c1b-4df6-b217-e358f5c66eb9",
   "metadata": {},
   "outputs": [],
   "source": []
  }
 ],
 "metadata": {
  "kernelspec": {
   "display_name": "Python 3 (ipykernel)",
   "language": "python",
   "name": "python3"
  },
  "language_info": {
   "codemirror_mode": {
    "name": "ipython",
    "version": 3
   },
   "file_extension": ".py",
   "mimetype": "text/x-python",
   "name": "python",
   "nbconvert_exporter": "python",
   "pygments_lexer": "ipython3",
   "version": "3.10.18"
  }
 },
 "nbformat": 4,
 "nbformat_minor": 5
}
