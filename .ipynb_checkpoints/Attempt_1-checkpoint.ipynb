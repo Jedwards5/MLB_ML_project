{
 "cells": [
  {
   "cell_type": "code",
   "execution_count": 1,
   "id": "cbd3e8c6-385e-47dc-97a4-d13ba11f08dc",
   "metadata": {},
   "outputs": [],
   "source": [
    "import pandas as pd\n",
    "import numpy as np\n",
    "import streamlit as st"
   ]
  },
  {
   "cell_type": "code",
   "execution_count": 3,
   "id": "f8de178f-8294-4e78-9873-4c84c5d49cb6",
   "metadata": {},
   "outputs": [],
   "source": [
    "from pathlib import Path"
   ]
  },
  {
   "cell_type": "code",
   "execution_count": 7,
   "id": "20708eb8-226b-479d-b52e-67f11a509666",
   "metadata": {},
   "outputs": [],
   "source": [
    "file_path = r'C:\\Users\\justi\\Documents\\Projects\\Data\\Baseball_databank'\n",
    "teams_file = file_path + '\\Teams.csv'"
   ]
  },
  {
   "cell_type": "code",
   "execution_count": 14,
   "id": "3ee91f08-db48-41d3-877e-c6dd872d9981",
   "metadata": {},
   "outputs": [],
   "source": [
    "teams_df = pd.read_csv(teams_file)\n",
    "teams_df = teams_df[teams_df['yearID'] > 2000]"
   ]
  },
  {
   "cell_type": "code",
   "execution_count": 18,
   "id": "06aa7638-53b1-451a-9815-cd3e37c694fc",
   "metadata": {},
   "outputs": [
    {
     "name": "stdout",
     "output_type": "stream",
     "text": [
      "<class 'pandas.core.frame.DataFrame'>\n",
      "Index: 450 entries, 2355 to 2804\n",
      "Data columns (total 48 columns):\n",
      " #   Column          Non-Null Count  Dtype  \n",
      "---  ------          --------------  -----  \n",
      " 0   yearID          450 non-null    int64  \n",
      " 1   lgID            450 non-null    object \n",
      " 2   teamID          450 non-null    object \n",
      " 3   franchID        450 non-null    object \n",
      " 4   divID           450 non-null    object \n",
      " 5   Rank            450 non-null    int64  \n",
      " 6   G               450 non-null    int64  \n",
      " 7   Ghome           450 non-null    float64\n",
      " 8   W               450 non-null    int64  \n",
      " 9   L               450 non-null    int64  \n",
      " 10  DivWin          450 non-null    object \n",
      " 11  WCWin           450 non-null    object \n",
      " 12  LgWin           450 non-null    object \n",
      " 13  WSWin           450 non-null    object \n",
      " 14  R               450 non-null    int64  \n",
      " 15  AB              450 non-null    int64  \n",
      " 16  H               450 non-null    int64  \n",
      " 17  2B              450 non-null    int64  \n",
      " 18  3B              450 non-null    int64  \n",
      " 19  HR              450 non-null    int64  \n",
      " 20  BB              450 non-null    int64  \n",
      " 21  SO              450 non-null    float64\n",
      " 22  SB              450 non-null    float64\n",
      " 23  CS              450 non-null    float64\n",
      " 24  HBP             450 non-null    float64\n",
      " 25  SF              450 non-null    float64\n",
      " 26  RA              450 non-null    int64  \n",
      " 27  ER              450 non-null    int64  \n",
      " 28  ERA             450 non-null    float64\n",
      " 29  CG              450 non-null    int64  \n",
      " 30  SHO             450 non-null    int64  \n",
      " 31  SV              450 non-null    int64  \n",
      " 32  IPouts          450 non-null    int64  \n",
      " 33  HA              450 non-null    int64  \n",
      " 34  HRA             450 non-null    int64  \n",
      " 35  BBA             450 non-null    int64  \n",
      " 36  SOA             450 non-null    int64  \n",
      " 37  E               450 non-null    int64  \n",
      " 38  DP              450 non-null    float64\n",
      " 39  FP              450 non-null    float64\n",
      " 40  name            450 non-null    object \n",
      " 41  park            450 non-null    object \n",
      " 42  attendance      450 non-null    float64\n",
      " 43  BPF             450 non-null    int64  \n",
      " 44  PPF             450 non-null    int64  \n",
      " 45  teamIDBR        450 non-null    object \n",
      " 46  teamIDlahman45  450 non-null    object \n",
      " 47  teamIDretro     450 non-null    object \n",
      "dtypes: float64(10), int64(25), object(13)\n",
      "memory usage: 172.3+ KB\n"
     ]
    }
   ],
   "source": [
    "teams_df.info()"
   ]
  },
  {
   "cell_type": "code",
   "execution_count": null,
   "id": "289914f8-c1d7-49d8-9987-c263166f9204",
   "metadata": {},
   "outputs": [],
   "source": [
    "# See if I can plot NL vs AL rankings for 2000 onward."
   ]
  }
 ],
 "metadata": {
  "kernelspec": {
   "display_name": "Python 3 (ipykernel)",
   "language": "python",
   "name": "python3"
  },
  "language_info": {
   "codemirror_mode": {
    "name": "ipython",
    "version": 3
   },
   "file_extension": ".py",
   "mimetype": "text/x-python",
   "name": "python",
   "nbconvert_exporter": "python",
   "pygments_lexer": "ipython3",
   "version": "3.10.18"
  }
 },
 "nbformat": 4,
 "nbformat_minor": 5
}
